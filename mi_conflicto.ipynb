{
 "cells": [
  {
   "cell_type": "code",
   "execution_count": 2,
   "metadata": {},
   "outputs": [
    {
     "name": "stdout",
     "output_type": "stream",
     "text": [
      "F\n",
      "r\n",
      "a\n",
      "s\n",
      "e\n",
      " \n",
      "d\n",
      "e\n",
      "l\n",
      " \n",
      "c\n",
      "o\n",
      "n\n",
      "f\n",
      "l\n",
      "i\n",
      "c\n",
      "t\n",
      "o\n"
     ]
    }
   ],
   "source": [
    "frase = \"Frase del conflicto\"\n",
    "for word in frase: \n",
    "    print (word) "
   ]
  }
 ],
 "metadata": {
  "kernelspec": {
   "display_name": "Python 3",
   "language": "python",
   "name": "python3"
  },
  "language_info": {
   "codemirror_mode": {
    "name": "ipython",
    "version": 3
   },
   "file_extension": ".py",
   "mimetype": "text/x-python",
   "name": "python",
   "nbconvert_exporter": "python",
   "pygments_lexer": "ipython3",
   "version": "3.8.3"
  }
 },
 "nbformat": 4,
 "nbformat_minor": 4
}
